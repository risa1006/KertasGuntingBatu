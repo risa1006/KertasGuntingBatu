{
  "nbformat": 4,
  "nbformat_minor": 0,
  "metadata": {
    "colab": {
      "name": "BatuGuntingKertas.ipynb",
      "provenance": [],
      "authorship_tag": "ABX9TyPoH+ksXYjgDQZBNlu404v3",
      "include_colab_link": true
    },
    "kernelspec": {
      "name": "python3",
      "display_name": "Python 3"
    },
    "language_info": {
      "name": "python"
    }
  },
  "cells": [
    {
      "cell_type": "markdown",
      "metadata": {
        "id": "view-in-github",
        "colab_type": "text"
      },
      "source": [
        "<a href=\"https://colab.research.google.com/github/risa1006/KertasGuntingBatu/blob/main/BatuGuntingKertas.ipynb\" target=\"_parent\"><img src=\"https://colab.research.google.com/assets/colab-badge.svg\" alt=\"Open In Colab\"/></a>"
      ]
    },
    {
      "cell_type": "code",
      "source": [
        "from random import randint\n",
        "def validate(hand):\n",
        "    if hand  < 0 or hand > 2:\n",
        "        return False\n",
        "    return True \n",
        "\n",
        "def print_hand(hand, name='Tamu'):\n",
        "    hands = ['Batu', 'Kertas', 'Gunting']\n",
        "    print(name + ' memilih: ' + hands[hand])\n",
        "\n",
        "def judge(player, computer):\n",
        "    if player == computer:\n",
        "      return 'Seri'\n",
        "    elif player == 0 and computer ==1 :\n",
        "      return 'Kalah'\n",
        "    elif player == 1 and computer ==2 :\n",
        "      return 'Kalah'\n",
        "    elif player == 1 and computer ==2 :\n",
        "      return 'Kalah'\n",
        "    else:\n",
        "        return 'Menang'\n",
        "print('Memulai permainan Batu Kertas Gunting!')\n",
        "player_name = input('Masukan nama Anda : ')\n",
        "\n",
        "while True: \n",
        "    print('Pilih tangan : (0: Batu, 1: Kertas, 2:Gunting)')\n",
        "    player_hand = int(input('Masukan nomor (0-2): '))\n",
        "\n",
        "    if validate(player_hand):\n",
        "      computer_hand = randint(0,2)\n",
        "\n",
        "      print_hand(player_hand, player_name)\n",
        "      print_hand(computer_hand, 'Komputer')\n",
        "\n",
        "      result = judge(player_hand, computer_hand)\n",
        "      print('Hasil: '+result)\n",
        "\n",
        "      play_again = input(\"Play again? (y/n): \")\n",
        "      if play_again.lower() != \"y\":\n",
        "        break\n",
        "    else :\n",
        "      print('Mohon Masukan nomor yang benar')\n"
      ],
      "metadata": {
        "colab": {
          "base_uri": "https://localhost:8080/"
        },
        "id": "hGCoIm9K1gK0",
        "outputId": "0f8b852c-7fea-4eda-98b9-6328d2ca6e1e"
      },
      "execution_count": 8,
      "outputs": [
        {
          "name": "stdout",
          "output_type": "stream",
          "text": [
            "Memulai permainan Batu Kertas Gunting!\n",
            "Masukan nama Anda : Risa\n",
            "Pilih tangan : (0: Batu, 1: Kertas, 2:Gunting)\n",
            "Masukan nomor (0-2): 1\n",
            "Risa memilih: Kertas\n",
            "Komputer memilih: Kertas\n",
            "Hasil: Seri\n",
            "Play again? (y/n): y\n",
            "Pilih tangan : (0: Batu, 1: Kertas, 2:Gunting)\n",
            "Masukan nomor (0-2): 2\n",
            "Risa memilih: Gunting\n",
            "Komputer memilih: Kertas\n",
            "Hasil: Menang\n",
            "Play again? (y/n): y\n",
            "Pilih tangan : (0: Batu, 1: Kertas, 2:Gunting)\n",
            "Masukan nomor (0-2): 0\n",
            "Risa memilih: Batu\n",
            "Komputer memilih: Batu\n",
            "Hasil: Seri\n",
            "Play again? (y/n): y\n",
            "Pilih tangan : (0: Batu, 1: Kertas, 2:Gunting)\n",
            "Masukan nomor (0-2): 1\n",
            "Risa memilih: Kertas\n",
            "Komputer memilih: Batu\n",
            "Hasil: Menang\n",
            "Play again? (y/n): y\n",
            "Pilih tangan : (0: Batu, 1: Kertas, 2:Gunting)\n",
            "Masukan nomor (0-2): 1\n",
            "Risa memilih: Kertas\n",
            "Komputer memilih: Kertas\n",
            "Hasil: Seri\n",
            "Play again? (y/n): y\n",
            "Pilih tangan : (0: Batu, 1: Kertas, 2:Gunting)\n",
            "Masukan nomor (0-2): 1\n",
            "Risa memilih: Kertas\n",
            "Komputer memilih: Batu\n",
            "Hasil: Menang\n",
            "Play again? (y/n): y\n",
            "Pilih tangan : (0: Batu, 1: Kertas, 2:Gunting)\n",
            "Masukan nomor (0-2): 1\n",
            "Risa memilih: Kertas\n",
            "Komputer memilih: Batu\n",
            "Hasil: Menang\n",
            "Play again? (y/n): y\n",
            "Pilih tangan : (0: Batu, 1: Kertas, 2:Gunting)\n",
            "Masukan nomor (0-2): 1\n",
            "Risa memilih: Kertas\n",
            "Komputer memilih: Gunting\n",
            "Hasil: Kalah\n",
            "Play again? (y/n): n\n"
          ]
        }
      ]
    }
  ]
}